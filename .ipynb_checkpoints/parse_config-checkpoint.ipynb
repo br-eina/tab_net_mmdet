{
 "cells": [
  {
   "cell_type": "code",
   "execution_count": 8,
   "metadata": {
    "ExecuteTime": {
     "end_time": "2020-09-26T20:31:23.777311Z",
     "start_time": "2020-09-26T20:31:23.773468Z"
    }
   },
   "outputs": [],
   "source": [
    "import re\n",
    "\n",
    "config_path = 'configs/cascade_mask_rcnn_hrnetv2p_w32_20e.py'\n",
    "\n",
    "with open(config_path, 'r') as f:\n",
    "    config = f.read()\n",
    "    pattern = r\"data_root = \\'(.*?)\\'\"\n",
    "    new_conf = re.sub(pattern, \"data_root = \\'test\\'\", config)\n",
    "    \n",
    "with open(config_path, 'w') as f:\n",
    "    f.write(new_conf)"
   ]
  },
  {
   "cell_type": "code",
   "execution_count": null,
   "metadata": {},
   "outputs": [],
   "source": []
  }
 ],
 "metadata": {
  "kernelspec": {
   "display_name": "Python [conda env:ml_spec] *",
   "language": "python",
   "name": "conda-env-ml_spec-py"
  },
  "language_info": {
   "codemirror_mode": {
    "name": "ipython",
    "version": 3
   },
   "file_extension": ".py",
   "mimetype": "text/x-python",
   "name": "python",
   "nbconvert_exporter": "python",
   "pygments_lexer": "ipython3",
   "version": "3.7.7"
  },
  "toc": {
   "base_numbering": 1,
   "nav_menu": {},
   "number_sections": true,
   "sideBar": true,
   "skip_h1_title": false,
   "title_cell": "Table of Contents",
   "title_sidebar": "Contents",
   "toc_cell": false,
   "toc_position": {},
   "toc_section_display": true,
   "toc_window_display": false
  }
 },
 "nbformat": 4,
 "nbformat_minor": 4
}
