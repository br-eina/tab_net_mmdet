{
 "cells": [
  {
   "cell_type": "code",
   "execution_count": 10,
   "metadata": {
    "ExecuteTime": {
     "end_time": "2020-09-26T20:32:30.747735Z",
     "start_time": "2020-09-26T20:32:30.743281Z"
    }
   },
   "outputs": [],
   "source": [
    "from os import listdir, makedirs\n",
    "from os.path import isfile, join, exists\n",
    "import re\n",
    "\n",
    "def create_folders(*folders):\n",
    "    for folder in folders:\n",
    "        if not exists(folder):\n",
    "            makedirs(folder)\n",
    "\n",
    "config_path = 'configs/cascade_mask_rcnn_hrnetv2p_w32_20e.py'\n",
    "\n",
    "pretrained_model = 'icdar19'\n",
    "dataset_type = 'type_all'\n",
    "total_epochs = 44\n",
    "\n",
    "total_epochs_line = f\"total_epochs = {total_epochs}\"\n",
    "data_root_line = f\"data_root = '/content/drive/My Drive/tab_net/training/{pretrained_model}/{dataset_type}/'\"\n",
    "resume_from_line = f\"resume_from = '/content/drive/My Drive/tab_net/pretrained_models/{pretrained_model}.pth'\"\n",
    "\n",
    "workdir = data_root + 'workdir/'\n",
    "create_folders(workdir)\n",
    "\n",
    "with open(config_path, 'r') as f:\n",
    "    config = f.read()\n",
    "    config = re.sub(r\"total_epochs = \\d+\", total_epochs_line, config)\n",
    "    config = re.sub(r\"data_root = \\'(.*?)\\'\", data_root_line, config)\n",
    "    config = re.sub(r\"resume_from = \\'(.*?)\\'\", resume_from_line, config)\n",
    "    \n",
    "with open(config_path, 'w') as f:\n",
    "    f.write(config)"
   ]
  },
  {
   "cell_type": "code",
   "execution_count": null,
   "metadata": {},
   "outputs": [],
   "source": []
  }
 ],
 "metadata": {
  "kernelspec": {
   "display_name": "Python [conda env:ml_spec] *",
   "language": "python",
   "name": "conda-env-ml_spec-py"
  },
  "language_info": {
   "codemirror_mode": {
    "name": "ipython",
    "version": 3
   },
   "file_extension": ".py",
   "mimetype": "text/x-python",
   "name": "python",
   "nbconvert_exporter": "python",
   "pygments_lexer": "ipython3",
   "version": "3.7.7"
  },
  "toc": {
   "base_numbering": 1,
   "nav_menu": {},
   "number_sections": true,
   "sideBar": true,
   "skip_h1_title": false,
   "title_cell": "Table of Contents",
   "title_sidebar": "Contents",
   "toc_cell": false,
   "toc_position": {},
   "toc_section_display": true,
   "toc_window_display": false
  }
 },
 "nbformat": 4,
 "nbformat_minor": 4
}
